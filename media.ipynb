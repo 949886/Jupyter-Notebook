{
 "cells": [
  {
   "attachments": {},
   "cell_type": "markdown",
   "metadata": {},
   "source": [
    "Select a video folder."
   ]
  },
  {
   "cell_type": "code",
   "execution_count": 5,
   "metadata": {
    "dotnet_interactive": {
     "language": "csharp"
    },
    "polyglot_notebook": {
     "kernelName": "csharp"
    }
   },
   "outputs": [
    {
     "data": {
      "text/plain": [
       "'D:/Share/新建文件夹 (3)/GAMES101-现代计算机图形学入门'"
      ]
     },
     "execution_count": 5,
     "metadata": {},
     "output_type": "execute_result"
    }
   ],
   "source": [
    "from tkinter import *\n",
    "# Create Tk root\n",
    "root = Tk()\n",
    "# Hide the main window\n",
    "root.withdraw()\n",
    "root.call('wm', 'attributes', '.', '-topmost', True)\n",
    "\n",
    "from tkinter import filedialog\n",
    "directory = filedialog.askdirectory()\n",
    "\n",
    "%gui tk\n",
    "\n",
    "directory"
   ]
  },
  {
   "cell_type": "code",
   "execution_count": 6,
   "metadata": {},
   "outputs": [
    {
     "name": "stdout",
     "output_type": "stream",
     "text": [
      "Folder already exists: D:/Share/新建文件夹 (3)/GAMES101-现代计算机图形学入门\\Generated\n"
     ]
    }
   ],
   "source": [
    "# Create a new folder in the same directory as the video file\n",
    "\n",
    "import os\n",
    "from os import path\n",
    "\n",
    "folderName = \"Generated\";\n",
    "newDirectory = path.join(directory, folderName);\n",
    "\n",
    "# Check if the folder exists\n",
    "if not os.path.exists(newDirectory):\n",
    "    # Create the new folder\n",
    "    os.makedirs(newDirectory)\n",
    "    print(\"New folder created:\", newDirectory)\n",
    "else:\n",
    "    print(\"Folder already exists:\", newDirectory)"
   ]
  },
  {
   "cell_type": "code",
   "execution_count": 3,
   "metadata": {},
   "outputs": [
    {
     "data": {
      "text/plain": [
       "['GAMES101-现代计算机图形学入门-闫令琪.Lecture_02_Review_of_Linear_Algebra.1550501822.mp4',\n",
       " 'GAMES101-现代计算机图形学入门-闫令琪.Lecture_02_Review_of_Linear_Algebra.mp4',\n",
       " 'GAMES101-现代计算机图形学入门-闫令琪.Lecture_03_Transformation.1550504532.mp4',\n",
       " 'GAMES101-现代计算机图形学入门-闫令琪.Lecture_03_Transformation.mp4']"
      ]
     },
     "execution_count": 3,
     "metadata": {},
     "output_type": "execute_result"
    }
   ],
   "source": [
    "# Get file list.\n",
    "source = path.normpath(directory)\n",
    "videoList = os.listdir(source)\n",
    "\n",
    "# Filter out non-video files.\n",
    "for Sname in videoList:\n",
    "    if not Sname.endswith((\".mp4\",\".mkv\")):\n",
    "        videoList.remove(Sname)\n",
    "\n",
    "videoList"
   ]
  },
  {
   "cell_type": "code",
   "execution_count": null,
   "metadata": {},
   "outputs": [],
   "source": [
    "# Speed up video by speed factor.\n",
    "# ffmpeg -i input.mp4 -filter_complex \"[0:v]setpts=0.75*PTS[v];[0:a]atempo=1.333333[a]\" -map \"[v]\" -map \"[a]\" output.mp4\n",
    "\n",
    "speed = 1.33333333\n",
    "\n",
    "for i in videoList:\n",
    "    output = i[0:-4]\n",
    "    cmd = f\"ffmpeg -hwaccel cuda -i \\\"{path.join(source, i)}\\\"  -filter_complex \\\"[0:v]setpts={1/speed}*PTS[v];[0:a]atempo={speed}[a]\\\" -map \\\"[v]\\\" -map \\\"[a]\\\" \\\"{path.join(source, output)}2.mp4\\\"\"\n",
    "    os.system(cmd)"
   ]
  },
  {
   "cell_type": "code",
   "execution_count": 18,
   "metadata": {},
   "outputs": [
    {
     "name": "stdout",
     "output_type": "stream",
     "text": [
      "GAMES101-现代计算机图形学入门-闫令琪.Lecture_02_Review_of_Linear_Algebra.1550501822\n",
      "D:/Share/新建文件夹 (3)/GAMES101-现代计算机图形学入门\\Generated\\GAMES101-现代计算机图形学入门-闫令琪.Lecture_02_Review_of_Linear_Algebra.1550501822\n",
      "GAMES101-现代计算机图形学入门-闫令琪.Lecture_02_Review_of_Linear_Algebra\n",
      "D:/Share/新建文件夹 (3)/GAMES101-现代计算机图形学入门\\Generated\\GAMES101-现代计算机图形学入门-闫令琪.Lecture_02_Review_of_Linear_Algebra\n",
      "GAMES101-现代计算机图形学入门-闫令琪.Lecture_03_Transformation.1550504532\n",
      "D:/Share/新建文件夹 (3)/GAMES101-现代计算机图形学入门\\Generated\\GAMES101-现代计算机图形学入门-闫令琪.Lecture_03_Transformation.1550504532\n",
      "GAMES101-现代计算机图形学入门-闫令琪.Lecture_03_Transformation\n",
      "D:/Share/新建文件夹 (3)/GAMES101-现代计算机图形学入门\\Generated\\GAMES101-现代计算机图形学入门-闫令琪.Lecture_03_Transformation\n"
     ]
    }
   ],
   "source": [
    "# Extract audio from video file using ffmpeg command and save it to a mp3 file\n",
    "# ffmpeg -i input.mp4 -f mp3 -acodec libmp3lame -y output.mp3\n",
    "\n",
    "for i in videoList:\n",
    "    output = path.join(newDirectory, i[0:-4])\n",
    "    cmd = f\"ffmpeg -i \\\"{path.join(source, i)}\\\" -f mp3 -acodec libmp3lame -y \\\"{output}.mp3\\\"\"\n",
    "     os.system(cmd)"
   ]
  }
 ],
 "metadata": {
  "kernelspec": {
   "display_name": "Python 3",
   "language": "python",
   "name": "python3"
  },
  "language_info": {
   "codemirror_mode": {
    "name": "ipython",
    "version": 3
   },
   "file_extension": ".py",
   "mimetype": "text/x-python",
   "name": "python",
   "nbconvert_exporter": "python",
   "pygments_lexer": "ipython3",
   "version": "3.10.6"
  },
  "orig_nbformat": 4,
  "polyglot_notebook": {
   "kernelInfo": {
    "defaultKernelName": "csharp",
    "items": [
     {
      "aliases": [],
      "name": "csharp"
     }
    ]
   }
  }
 },
 "nbformat": 4,
 "nbformat_minor": 2
}
