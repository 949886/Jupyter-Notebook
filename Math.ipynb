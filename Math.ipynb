{
 "cells": [
  {
   "cell_type": "code",
   "execution_count": 3,
   "metadata": {},
   "outputs": [
    {
     "name": "stdout",
     "output_type": "stream",
     "text": [
      "Looking in indexes: https://mirrors.aliyun.com/pypi/simple\n",
      "Requirement already satisfied: matplotlib in c:\\users\\luna\\appdata\\local\\programs\\python\\python310\\lib\\site-packages (3.7.1)\n",
      "Requirement already satisfied: pyparsing>=2.3.1 in c:\\users\\luna\\appdata\\local\\programs\\python\\python310\\lib\\site-packages (from matplotlib) (3.0.9)\n",
      "Requirement already satisfied: numpy>=1.20 in c:\\users\\luna\\appdata\\local\\programs\\python\\python310\\lib\\site-packages (from matplotlib) (1.24.1)\n",
      "Requirement already satisfied: kiwisolver>=1.0.1 in c:\\users\\luna\\appdata\\local\\programs\\python\\python310\\lib\\site-packages (from matplotlib) (1.4.4)\n",
      "Requirement already satisfied: fonttools>=4.22.0 in c:\\users\\luna\\appdata\\local\\programs\\python\\python310\\lib\\site-packages (from matplotlib) (4.39.2)\n",
      "Requirement already satisfied: contourpy>=1.0.1 in c:\\users\\luna\\appdata\\local\\programs\\python\\python310\\lib\\site-packages (from matplotlib) (1.0.7)\n",
      "Requirement already satisfied: python-dateutil>=2.7 in c:\\users\\luna\\appdata\\local\\programs\\python\\python310\\lib\\site-packages (from matplotlib) (2.8.2)\n",
      "Requirement already satisfied: pillow>=6.2.0 in c:\\users\\luna\\appdata\\local\\programs\\python\\python310\\lib\\site-packages (from matplotlib) (9.4.0)\n",
      "Requirement already satisfied: packaging>=20.0 in c:\\users\\luna\\appdata\\local\\programs\\python\\python310\\lib\\site-packages (from matplotlib) (23.0)\n",
      "Requirement already satisfied: cycler>=0.10 in c:\\users\\luna\\appdata\\local\\programs\\python\\python310\\lib\\site-packages (from matplotlib) (0.11.0)\n",
      "Requirement already satisfied: six>=1.5 in c:\\users\\luna\\appdata\\local\\programs\\python\\python310\\lib\\site-packages (from python-dateutil>=2.7->matplotlib) (1.16.0)\n"
     ]
    },
    {
     "name": "stderr",
     "output_type": "stream",
     "text": [
      "\n",
      "[notice] A new release of pip available: 22.3.1 -> 23.0.1\n",
      "[notice] To update, run: python.exe -m pip install --upgrade pip\n"
     ]
    },
    {
     "data": {
      "text/plain": [
       "<Figure size 640x480 with 0 Axes>"
      ]
     },
     "metadata": {},
     "output_type": "display_data"
    }
   ],
   "source": [
    "!pip install matplotlib\n",
    "\n",
    "import numpy as np\n",
    "import matplotlib.pyplot as plt\n",
    "import matplotlib.animation as animation\n",
    "import mpl_toolkits.mplot3d.axes3d as p3\n",
    "\n",
    "# Define the object's coordinates in view space\n",
    "x_view = np.array([1, 2, 3])\n",
    "y_view = np.array([4, 5, 6])\n",
    "z_view = np.array([7, 8, 9])\n",
    "\n",
    "# Define the camera's position and orientation in view space\n",
    "camera_pos = np.array([0, 0, 10])\n",
    "camera_lookat = np.array([0, 0, 0])\n",
    "camera_up = np.array([0, 1, 0])\n",
    "\n",
    "# Define the projection matrix\n",
    "near_clip = 5\n",
    "far_clip = 15\n",
    "aspect_ratio = 1\n",
    "fov = np.pi / 4\n",
    "proj_mat = np.array([\n",
    "    [1 / (aspect_ratio * np.tan(fov / 2)), 0, 0, 0],\n",
    "    [0, 1 / np.tan(fov / 2), 0, 0],\n",
    "    [0, 0, -(far_clip + near_clip) / (far_clip - near_clip), -2 * far_clip * near_clip / (far_clip - near_clip)],\n",
    "    [0, 0, -1, 0]\n",
    "])\n",
    "\n",
    "# Convert the object's coordinates from view space to clip space\n",
    "object_view = np.vstack((x_view, y_view, z_view, np.ones(3)))\n",
    "object_clip = proj_mat @ object_view\n",
    "x_clip, y_clip, z_clip, _ = object_clip\n",
    "\n",
    "# Set up the figure and axis\n",
    "fig = plt.figure()\n",
    "ax = p3.Axes3D(fig)\n",
    "\n",
    "# Define the animation function\n",
    "def animate(i):\n",
    "    # Clear the axis\n",
    "    ax.clear()\n",
    "\n",
    "    # Define the camera's position and orientation in view space\n",
    "    camera_pos = np.array([0, 0, 10])\n",
    "    camera_lookat = np.array([0, 0, 0])\n",
    "    camera_up = np.array([0, 1, 0])\n",
    "\n",
    "    # Define the projection matrix\n",
    "    near_clip = 5\n",
    "    far_clip = 15\n",
    "    aspect_ratio = 1\n",
    "    fov = np.pi / 4\n",
    "    proj_mat = np.array([\n",
    "        [1 / (aspect_ratio * np.tan(fov / 2)), 0, 0, 0],\n",
    "        [0, 1 / np.tan(fov / 2), 0, 0],\n",
    "        [0, 0, -(far_clip + near_clip) / (far_clip - near_clip), -2 * far_clip * near_clip / (far_clip - near_clip)],\n",
    "        [0, 0, -1, 0]\n",
    "    ])\n",
    "\n",
    "    # Convert the object's coordinates from view space to clip space\n",
    "    object_view = np.vstack((x_view, y_view, z_view, np.ones(3)))\n",
    "    object_clip = proj_mat @ object_view\n",
    "    x_clip, y_clip, z_clip, _ = object_clip\n",
    "\n",
    "    # Plot the object's coordinates in clip space\n",
    "    ax.plot(x_clip, y_clip, z_clip, 'bo')\n",
    "\n",
    "    # Set the axis limits\n",
    "    ax.set_xlim(-1, 1)\n",
    "    ax.set_ylim(-1, 1)\n",
    "    ax.set_zlim(-1, 1)\n",
    "\n",
    "    # Set the axis labels\n",
    "    ax.set_xlabel('X')\n",
    "    ax.set_ylabel('Y')\n",
    "    ax.set_zlabel('Z')\n",
    "\n",
    "    # Rotate the view\n",
    "    ax.view_init(elev=10, azim=i)\n",
    "\n",
    "    # Return the axis\n",
    "    return ax\n",
    "\n",
    "ani = animation.FuncAnimation(fig, animate, frames=360, interval=50)\n",
    "plt.show()"
   ]
  }
 ],
 "metadata": {
  "kernelspec": {
   "display_name": "Python 3",
   "language": "python",
   "name": "python3"
  },
  "language_info": {
   "codemirror_mode": {
    "name": "ipython",
    "version": 3
   },
   "file_extension": ".py",
   "mimetype": "text/x-python",
   "name": "python",
   "nbconvert_exporter": "python",
   "pygments_lexer": "ipython3",
   "version": "3.10.6"
  },
  "orig_nbformat": 4
 },
 "nbformat": 4,
 "nbformat_minor": 2
}
